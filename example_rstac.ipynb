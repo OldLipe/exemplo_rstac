{
 "cells": [
  {
   "cell_type": "markdown",
   "metadata": {},
   "source": [
    "<img src=\"https://raw.githubusercontent.com/brazil-data-cube/rstac/master/inst/extdata/img/logo.png\" align=\"right\" width=\"120\" />\n",
    "<img src=\"http://brazildatacube.org/wp-content/uploads/slider2/datacube-site.png\" align=\"right\" width=\"130\" />\n",
    "\n",
    "#  rstac \n",
    "\n",
    "**R Client Library for SpatioTemporal Asset Catalog (rstac)**\n",
    "\n",
    "Rolf Simões, Felipe Carvalho, Gilberto Ribeiro, Karine Reis, Matheus Zaglia\n",
    "\n",
    "Avaliable on: [https://github.com/brazil-data-cube/rstac](https://github.com/brazil-data-cube/rstac)\n",
    "\n",
    "<br>\n",
    "\n",
    "<hr style=\"border: 1px solid #0984e3;\">"
   ]
  },
  {
   "cell_type": "markdown",
   "metadata": {},
   "source": [
    "## About `rstac`\n",
    "\n",
    "<img src=\"img/rstac_diagram_00.png\" align=\"right\" width=\"600\" />\n",
    "<br>\n",
    "\n",
    "- STAC Catalog: lorem ipsum\n",
    "- STAC Catalog: lorem ipsum\n",
    "- STAC Catalog: lorem ipsum\n",
    "- STAC Catalog: lorem ipsum"
   ]
  },
  {
   "cell_type": "markdown",
   "metadata": {},
   "source": [
    "# Instalação"
   ]
  },
  {
   "cell_type": "code",
   "execution_count": null,
   "metadata": {},
   "outputs": [],
   "source": [
    "# load necessary libraries\n",
    "library(devtools)\n",
    "#install_github(\"brazil-data-cube/rstac\")\n",
    "\n",
    "# when the package is available on CRAN\n",
    "# install.packages(\"rstac\")"
   ]
  },
  {
   "cell_type": "markdown",
   "metadata": {},
   "source": [
    "<hr style=\"border: 1px solid #0984e3;\">"
   ]
  },
  {
   "cell_type": "markdown",
   "metadata": {},
   "source": [
    "## Importação dos pacotes"
   ]
  },
  {
   "cell_type": "code",
   "execution_count": 1,
   "metadata": {},
   "outputs": [
    {
     "name": "stderr",
     "output_type": "stream",
     "text": [
      "Loading required package: httr\n",
      "\n",
      "Loading required package: crayon\n",
      "\n"
     ]
    }
   ],
   "source": [
    "library(rstac)    # load rstac packageb\n",
    "library(magrittr) # load magrittr %>% package "
   ]
  },
  {
   "cell_type": "markdown",
   "metadata": {},
   "source": [
    "### Functions - pensando em tirar essa tabela"
   ]
  },
  {
   "cell_type": "markdown",
   "metadata": {},
   "source": [
    "`rstac` implements the following STAC endpoints:\n",
    "\n",
    "\n",
    "\n",
    "| STAC endpoints                               | `rstac` functions |\n",
    "|----------------------------------------------|-------------------|\n",
    "| `/stac` or `/`                               | `stac()`          |\n",
    "| `/collections`                               | `collections()`   |\n",
    "| `/collections/{collectionId}`                | `collections()`   |\n",
    "| `/collections/{collectionId}/items`          | `items()`         |\n",
    "| `/collections/{collectionId}/items/{itemId}` | `items()`         |\n",
    "| `/stac/search`                               | `stac_search()`   |\n",
    "    \n"
   ]
  },
  {
   "cell_type": "markdown",
   "metadata": {},
   "source": [
    "<hr style=\"border: 1px solid #0984e3;\">"
   ]
  },
  {
   "cell_type": "markdown",
   "metadata": {},
   "source": [
    "### 1. STAC catalog"
   ]
  },
  {
   "cell_type": "markdown",
   "metadata": {},
   "source": [
    "<img src=\"img/rstac_uml_v01_03.png\" align=\"right\" width=\"700\" />\n",
    "\n",
    "\n",
    "\n",
    "Descrição do stac catalog"
   ]
  },
  {
   "cell_type": "markdown",
   "metadata": {},
   "source": [
    "#### 1.1 Criação de um objeto `stac`. Caso não especificado a versão do STAC, o pacote `rstac` tenta encontrar a versão   "
   ]
  },
  {
   "cell_type": "code",
   "execution_count": 2,
   "metadata": {},
   "outputs": [],
   "source": [
    "# STAC v0.9.0 \n",
    "s_obj <- stac(\"http://brazildatacube.dpi.inpe.br/stac/\")\n",
    "\n",
    "# STAC v0.8.1\n",
    "# s_obj <- stac(\"brazildatacube.dpi.inpe.br/bdc-stac/0.8.1/\")"
   ]
  },
  {
   "cell_type": "markdown",
   "metadata": {},
   "source": [
    "##  1. Criação das consultas"
   ]
  },
  {
   "cell_type": "code",
   "execution_count": null,
   "metadata": {},
   "outputs": [],
   "source": [
    "s_obj <- stac(\"http://brazildatacube.dpi.inpe.br/dev/bdc-stac/\")"
   ]
  },
  {
   "cell_type": "markdown",
   "metadata": {},
   "source": [
    "TODO: Colocar imagem de consulta"
   ]
  },
  {
   "cell_type": "code",
   "execution_count": null,
   "metadata": {},
   "outputs": [],
   "source": [
    "s_obj %>% collections()"
   ]
  },
  {
   "cell_type": "code",
   "execution_count": null,
   "metadata": {},
   "outputs": [],
   "source": [
    "s_obj %>% collections(\"S2_10-1\")"
   ]
  },
  {
   "cell_type": "code",
   "execution_count": null,
   "metadata": {},
   "outputs": [],
   "source": [
    "s_obj %>% collections(\"S2_10-1\") %>% items()"
   ]
  },
  {
   "cell_type": "code",
   "execution_count": null,
   "metadata": {},
   "outputs": [],
   "source": [
    "s_obj %>% collections(\"S2_10-1\") %>% items(feature_id = \"S2_10_v1_089096_2019-12-31\")"
   ]
  },
  {
   "cell_type": "code",
   "execution_count": null,
   "metadata": {},
   "outputs": [],
   "source": [
    "s_obj %>% stac_search(collections = c(\"CB4_64_16D_STK\", \"S2_10-1\"))"
   ]
  },
  {
   "cell_type": "code",
   "execution_count": null,
   "metadata": {},
   "outputs": [],
   "source": [
    "s_obj %>% stac_search(collections = c(\"CB4_64_16D_STK\", \"S2_10-1\")) %>% extension_query(\"bdc:tile\" == \"022024\")"
   ]
  },
  {
   "cell_type": "markdown",
   "metadata": {},
   "source": [
    "## 2. Requisição"
   ]
  },
  {
   "cell_type": "markdown",
   "metadata": {},
   "source": [
    "TODO: Mostrar os métodos POST e GET  \n",
    "\n",
    "imagem"
   ]
  },
  {
   "cell_type": "markdown",
   "metadata": {},
   "source": [
    "#### 2.1 HTTP GET : `get_request()`"
   ]
  },
  {
   "cell_type": "code",
   "execution_count": null,
   "metadata": {},
   "outputs": [],
   "source": [
    "s_obj %>% \n",
    "    stac_search(collections = c(\"CB4_64_16D_STK\", \"S2_10-1\")) %>% \n",
    "    get_request()"
   ]
  },
  {
   "cell_type": "markdown",
   "metadata": {},
   "source": [
    "#### 2.2 HTTP POST : `post_request()`"
   ]
  },
  {
   "cell_type": "code",
   "execution_count": null,
   "metadata": {},
   "outputs": [],
   "source": [
    "s_obj %>% \n",
    "    stac_search(collections = c(\"CB4_64_16D_STK\", \"S2_10-1\")) %>%\n",
    "    post_request()"
   ]
  },
  {
   "cell_type": "markdown",
   "metadata": {},
   "source": [
    "#### 2.3 HTTP Access Token (OAuth2)"
   ]
  },
  {
   "cell_type": "markdown",
   "metadata": {},
   "source": [
    "Access token via POST"
   ]
  },
  {
   "cell_type": "code",
   "execution_count": null,
   "metadata": {},
   "outputs": [],
   "source": [
    "s_obj %>% \n",
    "    stac_search(collections = c(\"CB4_64_16D_STK\", \"S2_10-1\")) %>%\n",
    "    post_request(add_headers(\"x-api-key\" = \"MY\"))"
   ]
  },
  {
   "cell_type": "markdown",
   "metadata": {},
   "source": [
    "###  3. Document"
   ]
  },
  {
   "cell_type": "markdown",
   "metadata": {},
   "source": [
    "<img src=\"img/rstac_diagram_00.png\" align=\"middle\" width=\"600\"/>"
   ]
  },
  {
   "cell_type": "markdown",
   "metadata": {},
   "source": [
    "#### 3.1 `STACCatalog` object"
   ]
  },
  {
   "cell_type": "code",
   "execution_count": null,
   "metadata": {},
   "outputs": [],
   "source": [
    "s_obj %>% get_request()"
   ]
  },
  {
   "cell_type": "markdown",
   "metadata": {},
   "source": [
    "#### 3.2 `STACItemCollection` object"
   ]
  },
  {
   "cell_type": "code",
   "execution_count": null,
   "metadata": {},
   "outputs": [],
   "source": [
    "s_obj %>% \n",
    "    stac_search(collections = c(\"CB4_64_16D_STK\", \"S2_10-1\")) %>% \n",
    "    get_request()"
   ]
  },
  {
   "cell_type": "code",
   "execution_count": null,
   "metadata": {},
   "outputs": [],
   "source": [
    "s_obj %>% \n",
    "    collections(\"S2_10-1\") %>%\n",
    "    items() %>% \n",
    "    get_request()"
   ]
  },
  {
   "cell_type": "markdown",
   "metadata": {},
   "source": [
    "#### 3.3  `STACFeature` object"
   ]
  },
  {
   "cell_type": "code",
   "execution_count": null,
   "metadata": {},
   "outputs": [],
   "source": [
    "s_obj %>% \n",
    "    collections(\"S2_10-1\") %>%\n",
    "    items(feature_id = \"S2_10_v1_089096_2019-12-31\") %>% \n",
    "    get_request()"
   ]
  },
  {
   "cell_type": "markdown",
   "metadata": {},
   "source": [
    "#### 3.4 `STACCollection` object"
   ]
  },
  {
   "cell_type": "code",
   "execution_count": null,
   "metadata": {},
   "outputs": [],
   "source": [
    "s_obj %>% \n",
    "    collections(\"S2_10-1\") %>%\n",
    "    get_request()"
   ]
  },
  {
   "cell_type": "markdown",
   "metadata": {},
   "source": [
    "#### 3.5 `STACCollectionList` object"
   ]
  },
  {
   "cell_type": "code",
   "execution_count": null,
   "metadata": {},
   "outputs": [],
   "source": [
    "s_obj %>% \n",
    "    collections() %>%\n",
    "    get_request()"
   ]
  },
  {
   "cell_type": "markdown",
   "metadata": {},
   "source": [
    "## 4. Items functions\n",
    "\n",
    "<hr style=\"border: 1px solid #0984e3;\">"
   ]
  },
  {
   "cell_type": "markdown",
   "metadata": {},
   "source": [
    "#### 4.1 `items_fetch()`"
   ]
  },
  {
   "cell_type": "code",
   "execution_count": null,
   "metadata": {},
   "outputs": [],
   "source": [
    "s_obj %>% \n",
    "    stac_search(collections = \"CB4_64-1\",\n",
    "                limit = 500) %>%\n",
    "    get_request() %>% \n",
    "    items_fetch()"
   ]
  },
  {
   "cell_type": "markdown",
   "metadata": {},
   "source": [
    "#### 4.2 `items_lenth()`"
   ]
  },
  {
   "cell_type": "code",
   "execution_count": null,
   "metadata": {},
   "outputs": [],
   "source": [
    "s_obj %>% \n",
    "    stac_search(collections = \"CB4_64-1\",\n",
    "                limit = 500) %>%\n",
    "    get_request() %>%\n",
    "    items_length()"
   ]
  },
  {
   "cell_type": "markdown",
   "metadata": {},
   "source": [
    "#### 4.3 `items_matched()`"
   ]
  },
  {
   "cell_type": "code",
   "execution_count": null,
   "metadata": {},
   "outputs": [],
   "source": [
    "s_obj %>% \n",
    "    stac_search(collections = \"CB4_64-1\",\n",
    "                limit = 500) %>%\n",
    "    get_request() %>%\n",
    "    items_matched()"
   ]
  },
  {
   "cell_type": "markdown",
   "metadata": {},
   "source": [
    "## 5. Download assets\n",
    "\n",
    "<hr style=\"border: 1px solid #0984e3;\">"
   ]
  },
  {
   "cell_type": "code",
   "execution_count": null,
   "metadata": {},
   "outputs": [],
   "source": [
    "s_obj %>%\n",
    "    collections(collection_id = \"CB4_64_16D_STK-1\") %>%\n",
    "    items(limit = 2) %>%\n",
    "    get_request() %>%\n",
    "    assets_download(assets_name = c(\"thumbnail\"), output_dir = \".\", headers = c(\"x-api-key\" = \"MY\"))"
   ]
  },
  {
   "cell_type": "markdown",
   "metadata": {},
   "source": [
    "`load.image(CB4_64_16D_STK_022024_2019-12-19_2019-12-31_thumbnail.png)`\n",
    "\n",
    "<img src=\"CB4_64_16D_STK_v001_022021_2020-07-11_2020-07-26_thumbnail.png\" width=\"400\" />"
   ]
  },
  {
   "cell_type": "markdown",
   "metadata": {},
   "source": [
    "## 6. Extending STAC in `rstac`\n",
    "<hr style=\"border: 1px solid #0984e3;\">"
   ]
  },
  {
   "cell_type": "markdown",
   "metadata": {},
   "source": [
    "Add a figura "
   ]
  },
  {
   "cell_type": "code",
   "execution_count": null,
   "metadata": {},
   "outputs": [],
   "source": [
    "content"
   ]
  },
  {
   "cell_type": "code",
   "execution_count": 17,
   "metadata": {},
   "outputs": [],
   "source": [
    "\n",
    "my_extension <- function(s, token = \"\") {\n",
    "    \n",
    "    class(s) <- c(\"my_extension\", \"stac\")\n",
    "    s$headers <- c(\"x-api-key\" = token)\n",
    "    \n",
    "    return(s)\n",
    "}\n",
    "\n",
    "\n",
    "params_get_request.my_extension <- function(s) {\n",
    "   \n",
    "    s$headers <- paste0(s$headers, \"-MY_EXTENSION\")\n",
    "    print(paste(\"HTTP GET x-api-key:\",s$headers))\n",
    "    \n",
    "    return(s$params)\n",
    "}\n",
    "\n",
    "\n",
    "content_get_response.my_extension <- function(s, res) {    \n",
    "    \n",
    "    content <- structure(\n",
    "        httr::content(res,\n",
    "                           type = c(\"application/json\"),\n",
    "                           encoding = \"UTF-8\",\n",
    "                           simplifyVector = TRUE,\n",
    "                           simplifyDataFrame = FALSE,\n",
    "                           simplifyMatrix = FALSE),\n",
    "        stac = s,\n",
    "        request = list(method = \"get\"),\n",
    "        class = \"stac_item_collection\")\n",
    "    \n",
    "    \n",
    "    return(content)\n",
    "}\n"
   ]
  },
  {
   "cell_type": "code",
   "execution_count": 21,
   "metadata": {},
   "outputs": [
    {
     "name": "stdout",
     "output_type": "stream",
     "text": [
      "[1] \"HTTP GET x-api-key: MY_TOKEN-MY_EXTENSION\"\n"
     ]
    },
    {
     "data": {
      "text/plain": [
       "\u001b[1m### STAC Item Collection\u001b[22m\n",
       "- type: \u001b[1m\"FeatureCollection\"\u001b[22m\n",
       "- numberMatched: \u001b[1m35684\u001b[22m\n",
       "- features:\n",
       "  - - collection: \u001b[1m\"LC8SR-1\"\u001b[22m\n",
       "    - bbox: xmin: \u001b[1m-49.84148\u001b[22m, ymin: \u001b[1m-6.84631\u001b[22m, xmax: \u001b[1m-47.76954\u001b[22m, ymax: \u001b[1m-4.73125\u001b[22m\n",
       "    - datetime: \u001b[1m\"2020-08-31T00:00:00\"\u001b[22m\n",
       "  - - collection: \u001b[1m\"LC8SR-1\"\u001b[22m\n",
       "    - bbox: xmin: \u001b[1m-50.15592\u001b[22m, ymin: \u001b[1m-8.29052\u001b[22m, xmax: \u001b[1m-48.07435\u001b[22m, ymax: \u001b[1m-6.17729\u001b[22m\n",
       "    - datetime: \u001b[1m\"2020-08-31T00:00:00\"\u001b[22m\n",
       "  - - collection: \u001b[1m\"LC8SR-1\"\u001b[22m\n",
       "    - bbox: xmin: \u001b[1m-49.53035\u001b[22m, ymin: \u001b[1m-5.39943\u001b[22m, xmax: \u001b[1m-47.46464\u001b[22m, ymax: \u001b[1m-3.28860\u001b[22m\n",
       "    - datetime: \u001b[1m\"2020-08-31T00:00:00\"\u001b[22m\n",
       "  - - collection: \u001b[1m\"LC8SR-1\"\u001b[22m\n",
       "    - bbox: xmin: \u001b[1m-50.47157\u001b[22m, ymin: \u001b[1m-9.73732\u001b[22m, xmax: \u001b[1m-48.38233\u001b[22m, ymax: \u001b[1m-7.62118\u001b[22m\n",
       "    - datetime: \u001b[1m\"2020-08-31T00:00:00\"\u001b[22m\n",
       "  - - collection: \u001b[1m\"LC8SR-1\"\u001b[22m\n",
       "    - bbox: xmin: \u001b[1m-50.78902\u001b[22m, ymin: \u001b[1m-11.18112\u001b[22m, xmax: \u001b[1m-48.69141\u001b[22m, ymax: \u001b[1m-9.06817\u001b[22m\n",
       "    - datetime: \u001b[1m\"2020-08-31T00:00:00\"\u001b[22m\n",
       "\u001b[90m> … with 5 more feature(s)\u001b[39m"
      ]
     },
     "metadata": {},
     "output_type": "display_data"
    }
   ],
   "source": [
    "s_obj %>% stac_search(collections = c(\"CB4_64_16D_STK-1\", \"LC8SR-1\")) %>% my_extension(\"MY_TOKEN\") %>% \n",
    "    get_request()"
   ]
  }
 ],
 "metadata": {
  "kernelspec": {
   "display_name": "R",
   "language": "R",
   "name": "ir"
  },
  "language_info": {
   "codemirror_mode": "r",
   "file_extension": ".r",
   "mimetype": "text/x-r-source",
   "name": "R",
   "pygments_lexer": "r",
   "version": "3.6.1"
  }
 },
 "nbformat": 4,
 "nbformat_minor": 4
}
