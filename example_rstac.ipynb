{
 "cells": [
  {
   "cell_type": "markdown",
   "metadata": {},
   "source": [
    "<img src=\"https://raw.githubusercontent.com/brazil-data-cube/rstac/master/inst/extdata/img/logo.png\" align=\"right\" width=\"120\" />\n",
    "<img src=\"http://brazildatacube.org/wp-content/uploads/slider2/datacube-site.png\" align=\"right\" width=\"130\" />\n",
    "\n",
    "#  rstac \n",
    "\n",
    "**R Client Library for SpatioTemporal Asset Catalog (rstac)**\n",
    "\n",
    "Rolf Simões, Felipe Carvalho, Gilberto Ribeiro, Karine Reis, Matheus Zaglia\n",
    "\n",
    "Avaliable on: [https://github.com/brazil-data-cube/rstac](https://github.com/brazil-data-cube/rstac)\n",
    "\n",
    "<br>\n",
    "\n",
    "<hr style=\"border: 1px solid #0984e3;\">"
   ]
  },
  {
   "cell_type": "markdown",
   "metadata": {},
   "source": [
    "## About `rstac`\n",
    "\n",
    "<img src=\"img/rstac_diagram_00.png\" align=\"right\" width=\"600\" />\n",
    "<br>\n",
    "\n",
    "- STAC Catalog: lorem ipsum\n",
    "- STAC Catalog: lorem ipsum\n",
    "- STAC Catalog: lorem ipsum\n",
    "- STAC Catalog: lorem ipsum"
   ]
  },
  {
   "cell_type": "markdown",
   "metadata": {},
   "source": [
    "# Instalação"
   ]
  },
  {
   "cell_type": "code",
   "execution_count": 33,
   "metadata": {},
   "outputs": [],
   "source": [
    "# load necessary libraries\n",
    "library(devtools)\n",
    "#install_github(\"brazil-data-cube/rstac\")\n",
    "\n",
    "# when the package is available on CRAN\n",
    "# install.packages(\"rstac\")"
   ]
  },
  {
   "cell_type": "markdown",
   "metadata": {},
   "source": [
    "<hr style=\"border: 1px solid #0984e3;\">"
   ]
  },
  {
   "cell_type": "markdown",
   "metadata": {},
   "source": [
    "## Importação dos pacotes"
   ]
  },
  {
   "cell_type": "code",
   "execution_count": 34,
   "metadata": {},
   "outputs": [],
   "source": [
    "library(rstac)    # load rstac packageb\n",
    "library(magrittr) # load magrittr %>% package "
   ]
  },
  {
   "cell_type": "markdown",
   "metadata": {},
   "source": [
    "### Functions - pensando em tirar essa tabela"
   ]
  },
  {
   "cell_type": "markdown",
   "metadata": {},
   "source": [
    "`rstac` implements the following STAC endpoints:\n",
    "\n",
    "\n",
    "\n",
    "| STAC endpoints                               | `rstac` functions |\n",
    "|----------------------------------------------|-------------------|\n",
    "| `/stac` or `/`                               | `stac()`          |\n",
    "| `/collections`                               | `collections()`   |\n",
    "| `/collections/{collectionId}`                | `collections()`   |\n",
    "| `/collections/{collectionId}/items`          | `items()`         |\n",
    "| `/collections/{collectionId}/items/{itemId}` | `items()`         |\n",
    "| `/stac/search`                               | `stac_search()`   |\n",
    "    \n"
   ]
  },
  {
   "cell_type": "markdown",
   "metadata": {},
   "source": [
    "<hr style=\"border: 1px solid #0984e3;\">"
   ]
  },
  {
   "cell_type": "markdown",
   "metadata": {},
   "source": [
    "### 1. STAC catalog"
   ]
  },
  {
   "cell_type": "markdown",
   "metadata": {},
   "source": [
    "<img src=\"img/rstac_uml_v01_03.png\" align=\"right\" width=\"700\" />\n",
    "\n",
    "\n",
    "\n",
    "Descrição do stac catalog"
   ]
  },
  {
   "cell_type": "markdown",
   "metadata": {},
   "source": [
    "#### 1.1 Criação de um objeto `stac`. Caso não especificado a versão do STAC, o pacote `rstac` tenta encontrar a versão   "
   ]
  },
  {
   "cell_type": "code",
   "execution_count": 5,
   "metadata": {},
   "outputs": [],
   "source": [
    "# STAC v0.9.0\n",
    "s_obj <- stac(\"http://brazildatacube.dpi.inpe.br/dev/bdc-stac/\")\n",
    "\n",
    "# STAC v0.8.1\n",
    "# s_obj <- stac(\"brazildatacube.dpi.inpe.br/bdc-stac/0.8.1/\")"
   ]
  },
  {
   "cell_type": "code",
   "execution_count": 7,
   "metadata": {},
   "outputs": [
    {
     "data": {
      "text/plain": [
       "\u001b[1m### STAC\u001b[22m\n",
       "\n",
       "- url: \u001b[1m\"http://brazildatacube.dpi.inpe.br/dev/bdc-stac/\"\u001b[22m\n",
       "- endpoint: \u001b[1m\"/\"\u001b[22m\n",
       "- version: \u001b[1m\"0.9.0\"\u001b[22m\n",
       "- headers: \n",
       "- params: "
      ]
     },
     "metadata": {},
     "output_type": "display_data"
    }
   ],
   "source": [
    "s_obj"
   ]
  },
  {
   "cell_type": "code",
   "execution_count": null,
   "metadata": {},
   "outputs": [],
   "source": [
    "httr::verbose"
   ]
  },
  {
   "cell_type": "markdown",
   "metadata": {},
   "source": [
    "#### 1.2 Realizando a requisição através do método `get_request()`. Veja que é o parâmetro da função `get_request()`. É possível passar parâmetros extras como: `verbose()` e `config(token = \"MY-TOKEN\")` "
   ]
  },
  {
   "cell_type": "code",
   "execution_count": 15,
   "metadata": {},
   "outputs": [
    {
     "name": "stdout",
     "output_type": "stream",
     "text": [
      "\u001b[1m### STAC Catalog\u001b[22m\n",
      "- stac_version: \u001b[1m\"0.9.0\"\u001b[22m\n",
      "- id: \u001b[1m\"bdc\"\u001b[22m\n",
      "- description: \u001b[1m\"Brazil Data Cube Catalog\"\u001b[22m\n",
      "- links:\n",
      "  - \u001b[1mL7DN\u001b[22m \n",
      "(\u001b[4mhttp://brazildatacube.dpi.inpe.br/dev/bdc-stac/collections/L7DN-1\u001b[24m)\n",
      "  - \u001b[1mL7SR\u001b[22m \n",
      "(\u001b[4mhttp://brazildatacube.dpi.inpe.br/dev/bdc-stac/collections/L7SR-1\u001b[24m)\n",
      "  - \u001b[1mSentinel-2 (MSI) Cube Identity - v001\u001b[22m \n",
      "(\u001b[4mhttp://brazildatacube.dpi.inpe.br/dev/bdc-stac/collections/S2_10-1\u001b[24m)\n",
      "  - \u001b[1mCBERS-4 (AWFI) Cube Stack 16 days - v001\u001b[22m \n",
      "(\u001b[4mhttp://brazildatacube.dpi.inpe.br/dev/bdc-stac/collections/CB4_64_16D_STK-1\u001b[24m)\n",
      "  - \u001b[1mCBERS-4 (AWFI) Cube Identity - v001\u001b[22m \n",
      "(\u001b[4mhttp://brazildatacube.dpi.inpe.br/dev/bdc-stac/collections/CB4_64-1\u001b[24m)\n",
      "  - \u001b[1mHLS.L30\u001b[22m \n",
      "(\u001b[4mhttp://brazildatacube.dpi.inpe.br/dev/bdc-stac/collections/HLS.L30-1\u001b[24m)\n",
      "  - \u001b[1mHLS.S30\u001b[22m \n",
      "(\u001b[4mhttp://brazildatacube.dpi.inpe.br/dev/bdc-stac/collections/HLS.S30-1\u001b[24m)\n",
      "  - \u001b[1mL5DN\u001b[22m \n",
      "(\u001b[4mhttp://brazildatacube.dpi.inpe.br/dev/bdc-stac/collections/L5DN-1\u001b[24m)\n",
      "  - \u001b[1mL5SR\u001b[22m \n",
      "(\u001b[4mhttp://brazildatacube.dpi.inpe.br/dev/bdc-stac/collections/L5SR-1\u001b[24m)\n",
      "  - \u001b[1mLandsat-8 (OLI) Cube Stack 16 days - v001\u001b[22m \n",
      "(\u001b[4mhttp://brazildatacube.dpi.inpe.br/dev/bdc-stac/collections/LC8_30_16D_STK-1\u001b[24m)\n",
      "\u001b[90m\u001b[1m> … with 8 more links\u001b[22m\u001b[39m\n"
     ]
    }
   ],
   "source": [
    "get_request(s_obj) %>% print()"
   ]
  },
  {
   "cell_type": "markdown",
   "metadata": {},
   "source": [
    "#### 1.3 A mesma query com o operador pipe `%>%`"
   ]
  },
  {
   "cell_type": "code",
   "execution_count": 28,
   "metadata": {},
   "outputs": [],
   "source": [
    "catalog <- stac(\"http://brazildatacube.dpi.inpe.br/dev/bdc-stac/\") %>%\n",
    "            get_request()"
   ]
  },
  {
   "cell_type": "markdown",
   "metadata": {},
   "source": [
    "#### 1.4 Verificando a classe do objeto criado. Para cada `endpoint` do STAC, o pacote `rstac` cria um objeto correspondente."
   ]
  },
  {
   "cell_type": "code",
   "execution_count": 31,
   "metadata": {},
   "outputs": [
    {
     "data": {
      "text/html": [
       "'stac_catalog'"
      ],
      "text/latex": [
       "'stac\\_catalog'"
      ],
      "text/markdown": [
       "'stac_catalog'"
      ],
      "text/plain": [
       "[1] \"stac_catalog\""
      ]
     },
     "metadata": {},
     "output_type": "display_data"
    }
   ],
   "source": [
    "class(catalog)"
   ]
  },
  {
   "cell_type": "markdown",
   "metadata": {},
   "source": [
    "#### 1.5 Verificando os atributos do objeto `stac_catalog`"
   ]
  },
  {
   "cell_type": "code",
   "execution_count": 32,
   "metadata": {},
   "outputs": [
    {
     "data": {
      "text/plain": [
       "$names\n",
       "[1] \"description\"  \"id\"           \"stac_version\" \"links\"       \n",
       "\n",
       "$stac\n",
       "\u001b[1m### STAC\u001b[22m\n",
       "\n",
       "- url: \u001b[1m\"http://brazildatacube.dpi.inpe.br/dev/bdc-stac/\"\u001b[22m\n",
       "- endpoint: \u001b[1m\"/\"\u001b[22m\n",
       "- version: \u001b[1m\"0.9.0\"\u001b[22m\n",
       "- headers: \n",
       "- params: \n",
       "\n",
       "$request\n",
       "$request$method\n",
       "[1] \"get\"\n",
       "\n",
       "\n",
       "$class\n",
       "[1] \"stac_catalog\"\n"
      ]
     },
     "metadata": {},
     "output_type": "display_data"
    }
   ],
   "source": [
    "attributes(catalog)"
   ]
  },
  {
   "cell_type": "markdown",
   "metadata": {},
   "source": [
    "#### Descrição\n",
    "\n",
    "\n",
    "- **`$names`** Atributos do objeto após a requisição\n",
    "- **`$stac`** Atributos do objeto pré-requisição\n",
    "- **`$requst`** Método de requisição utilizado\n",
    "- **`$class`** Classe do objeto mapeado"
   ]
  },
  {
   "cell_type": "markdown",
   "metadata": {},
   "source": [
    "<hr style=\"border: 1px solid #0984e3;\">\n",
    "\n",
    "### 2. STAC collections"
   ]
  },
  {
   "cell_type": "markdown",
   "metadata": {},
   "source": [
    "<img src=\"img/rstac_uml_v01_01.png\" align=\"right\" width=\"700\" />\n",
    "\n",
    "TODO: Explicar o ...\n"
   ]
  },
  {
   "cell_type": "markdown",
   "metadata": {},
   "source": [
    "#### 2.1 Criando um objeto stac, buscando pelas collections e fazendo a requisição."
   ]
  },
  {
   "cell_type": "code",
   "execution_count": 36,
   "metadata": {
    "scrolled": true
   },
   "outputs": [
    {
     "data": {
      "text/plain": [
       "\u001b[1m### STAC List Collection\u001b[22m\n",
       "- \u001b[1mS2TOA-1\u001b[22m \n",
       "(\u001b[4mhttp://brazildatacube.dpi.inpe.br/dev/bdc-stac/collections/S2TOA-1\u001b[24m)\n",
       "- \u001b[1mS2_MSI_L2_SR_LASRC-1\u001b[22m \n",
       "(\u001b[4mhttp://brazildatacube.dpi.inpe.br/dev/bdc-stac/collections/S2_MSI_L2_SR_LASRC-1\u001b[24m)\n",
       "- \u001b[1mHLS.S30-1\u001b[22m \n",
       "(\u001b[4mhttp://brazildatacube.dpi.inpe.br/dev/bdc-stac/collections/HLS.S30-1\u001b[24m)\n",
       "- \u001b[1mHLS.L30-1\u001b[22m \n",
       "(\u001b[4mhttp://brazildatacube.dpi.inpe.br/dev/bdc-stac/collections/HLS.L30-1\u001b[24m)\n",
       "- \u001b[1mLC8DN-1\u001b[22m \n",
       "(\u001b[4mhttp://brazildatacube.dpi.inpe.br/dev/bdc-stac/collections/LC8DN-1\u001b[24m)\n",
       "- \u001b[1mLC8SR-1\u001b[22m \n",
       "(\u001b[4mhttp://brazildatacube.dpi.inpe.br/dev/bdc-stac/collections/LC8SR-1\u001b[24m)\n",
       "- \u001b[1mL5SR-1\u001b[22m \n",
       "(\u001b[4mhttp://brazildatacube.dpi.inpe.br/dev/bdc-stac/collections/L5SR-1\u001b[24m)\n",
       "- \u001b[1mL5DN-1\u001b[22m \n",
       "(\u001b[4mhttp://brazildatacube.dpi.inpe.br/dev/bdc-stac/collections/L5DN-1\u001b[24m)\n",
       "- \u001b[1mL7SR-1\u001b[22m \n",
       "(\u001b[4mhttp://brazildatacube.dpi.inpe.br/dev/bdc-stac/collections/L7SR-1\u001b[24m)\n",
       "- \u001b[1mL7DN-1\u001b[22m \n",
       "(\u001b[4mhttp://brazildatacube.dpi.inpe.br/dev/bdc-stac/collections/L7DN-1\u001b[24m)\n",
       "- \u001b[1mMYD13Q1-1\u001b[22m \n",
       "(\u001b[4mhttp://brazildatacube.dpi.inpe.br/dev/bdc-stac/collections/MYD13Q1-1\u001b[24m)\n",
       "- \u001b[1mMOD13Q1-1\u001b[22m \n",
       "(\u001b[4mhttp://brazildatacube.dpi.inpe.br/dev/bdc-stac/collections/MOD13Q1-1\u001b[24m)\n",
       "- \u001b[1mS2_10_16D_STK-1\u001b[22m \n",
       "(\u001b[4mhttp://brazildatacube.dpi.inpe.br/dev/bdc-stac/collections/S2_10_16D_STK-1\u001b[24m)\n",
       "- \u001b[1mS2_10-1\u001b[22m \n",
       "(\u001b[4mhttp://brazildatacube.dpi.inpe.br/dev/bdc-stac/collections/S2_10-1\u001b[24m)\n",
       "- \u001b[1mLC8_30-1\u001b[22m \n",
       "(\u001b[4mhttp://brazildatacube.dpi.inpe.br/dev/bdc-stac/collections/LC8_30-1\u001b[24m)\n",
       "- \u001b[1mLC8_30_16D_STK-1\u001b[22m \n",
       "(\u001b[4mhttp://brazildatacube.dpi.inpe.br/dev/bdc-stac/collections/LC8_30_16D_STK-1\u001b[24m)\n",
       "- \u001b[1mCB4_64-1\u001b[22m \n",
       "(\u001b[4mhttp://brazildatacube.dpi.inpe.br/dev/bdc-stac/collections/CB4_64-1\u001b[24m)\n",
       "- \u001b[1mCB4_64_16D_STK-1\u001b[22m \n",
       "(\u001b[4mhttp://brazildatacube.dpi.inpe.br/dev/bdc-stac/collections/CB4_64_16D_STK-1\u001b[24m)"
      ]
     },
     "metadata": {},
     "output_type": "display_data"
    }
   ],
   "source": [
    "stac(\"http://brazildatacube.dpi.inpe.br/dev/bdc-stac/\") %>%\n",
    "    collections() %>%\n",
    "    get_request()"
   ]
  },
  {
   "cell_type": "markdown",
   "metadata": {},
   "source": [
    "#### 3.2 Fazendo buscas pela `collection_id`"
   ]
  },
  {
   "cell_type": "code",
   "execution_count": 37,
   "metadata": {},
   "outputs": [
    {
     "data": {
      "text/plain": [
       "\u001b[1m### STAC Collection\u001b[22m\n",
       "- stac_version: \u001b[1m\"0.9.0\"\u001b[22m\n",
       "- id: \u001b[1m\"CB4_64_16D_STK-1\"\u001b[22m\n",
       "- license: \u001b[1m\"\"\u001b[22m\n",
       "- extent: \n",
       "  - spatial: \n",
       "    - bbox: \n",
       "      - xmin: \u001b[1m-61.00212\u001b[22m, ymin: \u001b[1m-26.94755\u001b[22m, xmax: \u001b[1m-35.89556\u001b[22m, ymax: \u001b[1m0.94946\u001b[22m\n",
       "  - temporal: \n",
       "    - interval: \n",
       "      - \u001b[1m\"2016-01-01T00:00:00/2020-07-26T00:00:00\"\u001b[22m\n",
       "- properties:\n",
       "  - eo:gsd: \u001b[1m64.00000\u001b[22m\n",
       "  - eo:bands:     - - name: \u001b[1m\"BAND13\"\u001b[22m\n",
       "      - common_name: \u001b[1m\"blue\"\u001b[22m\n",
       "      - description: null\n",
       "      - min: \u001b[1m0.00000\u001b[22m\n",
       "      - max: \u001b[1m10000.00000\u001b[22m\n",
       "      - nodata: \u001b[1m-9999.00000\u001b[22m\n",
       "      - scale: \u001b[1m0.00010\u001b[22m\n",
       "      - center_wavelength: null\n",
       "      - full_width_half_max: null\n",
       "      - data_type: \u001b[1m\"int16\"\u001b[22m\n",
       "    - - name: \u001b[1m\"BAND14\"\u001b[22m\n",
       "      - common_name: \u001b[1m\"green\"\u001b[22m\n",
       "      - description: null\n",
       "      - min: \u001b[1m0.00000\u001b[22m\n",
       "      - max: \u001b[1m10000.00000\u001b[22m\n",
       "      - nodata: \u001b[1m-9999.00000\u001b[22m\n",
       "      - scale: \u001b[1m0.00010\u001b[22m\n",
       "      - center_wavelength: null\n",
       "      - full_width_half_max: null\n",
       "      - data_type: \u001b[1m\"int16\"\u001b[22m\n",
       "    - - name: \u001b[1m\"BAND15\"\u001b[22m\n",
       "      - common_name: \u001b[1m\"red\"\u001b[22m\n",
       "      - description: null\n",
       "      - min: \u001b[1m0.00000\u001b[22m\n",
       "      - max: \u001b[1m10000.00000\u001b[22m\n",
       "      - nodata: \u001b[1m-9999.00000\u001b[22m\n",
       "      - scale: \u001b[1m0.00010\u001b[22m\n",
       "      - center_wavelength: null\n",
       "      - full_width_half_max: null\n",
       "      - data_type: \u001b[1m\"int16\"\u001b[22m\n",
       "    - - name: \u001b[1m\"BAND16\"\u001b[22m\n",
       "      - common_name: \u001b[1m\"nir\"\u001b[22m\n",
       "      - description: null\n",
       "      - min: \u001b[1m0.00000\u001b[22m\n",
       "      - max: \u001b[1m10000.00000\u001b[22m\n",
       "      - nodata: \u001b[1m-9999.00000\u001b[22m\n",
       "      - scale: \u001b[1m0.00010\u001b[22m\n",
       "      - center_wavelength: null\n",
       "      - full_width_half_max: null\n",
       "      - data_type: \u001b[1m\"int16\"\u001b[22m\n",
       "    - - name: \u001b[1m\"CLEAROB\"\u001b[22m\n",
       "      - common_name: \u001b[1m\"ClearOb\"\u001b[22m\n",
       "      - description: null\n",
       "      - min: \u001b[1m0.00000\u001b[22m\n",
       "      - max: \u001b[1m255.00000\u001b[22m\n",
       "      - nodata: \u001b[1m0.00000\u001b[22m\n",
       "      - scale: \u001b[1m0.00010\u001b[22m\n",
       "      - center_wavelength: null\n",
       "      - full_width_half_max: null\n",
       "      - data_type: \u001b[1m\"uint8\"\u001b[22m\n",
       "    - - name: \u001b[1m\"CMASK\"\u001b[22m\n",
       "      - common_name: \u001b[1m\"quality\"\u001b[22m\n",
       "      - description: null\n",
       "      - min: \u001b[1m0.00000\u001b[22m\n",
       "      - max: \u001b[1m4.00000\u001b[22m\n",
       "      - nodata: \u001b[1m255.00000\u001b[22m\n",
       "      - scale: \u001b[1m0.00010\u001b[22m\n",
       "      - center_wavelength: null\n",
       "      - full_width_half_max: null\n",
       "      - data_type: \u001b[1m\"uint8\"\u001b[22m\n",
       "    - - name: \u001b[1m\"EVI\"\u001b[22m\n",
       "      - common_name: \u001b[1m\"evi\"\u001b[22m\n",
       "      - description: null\n",
       "      - min: \u001b[1m0.00000\u001b[22m\n",
       "      - max: \u001b[1m10000.00000\u001b[22m\n",
       "      - nodata: \u001b[1m-9999.00000\u001b[22m\n",
       "      - scale: \u001b[1m0.00010\u001b[22m\n",
       "      - center_wavelength: null\n",
       "      - full_width_half_max: null\n",
       "      - data_type: \u001b[1m\"int16\"\u001b[22m\n",
       "    - - name: \u001b[1m\"NDVI\"\u001b[22m\n",
       "      - common_name: \u001b[1m\"ndvi\"\u001b[22m\n",
       "      - description: null\n",
       "      - min: \u001b[1m0.00000\u001b[22m\n",
       "      - max: \u001b[1m10000.00000\u001b[22m\n",
       "      - nodata: \u001b[1m-9999.00000\u001b[22m\n",
       "      - scale: \u001b[1m0.00010\u001b[22m\n",
       "      - center_wavelength: null\n",
       "      - full_width_half_max: null\n",
       "      - data_type: \u001b[1m\"int16\"\u001b[22m\n",
       "    - - name: \u001b[1m\"PROVENANCE\"\u001b[22m\n",
       "      - common_name: \u001b[1m\"Provenance\"\u001b[22m\n",
       "      - description: null\n",
       "      - min: \u001b[1m1.00000\u001b[22m\n",
       "      - max: \u001b[1m366.00000\u001b[22m\n",
       "      - nodata: \u001b[1m-1.00000\u001b[22m\n",
       "      - scale: \u001b[1m0.00010\u001b[22m\n",
       "      - center_wavelength: null\n",
       "      - full_width_half_max: null\n",
       "      - data_type: \u001b[1m\"int16\"\u001b[22m\n",
       "    - - name: \u001b[1m\"TOTALOB\"\u001b[22m\n",
       "      - common_name: \u001b[1m\"TotalOb\"\u001b[22m\n",
       "      - description: null\n",
       "      - min: \u001b[1m0.00000\u001b[22m\n",
       "      - max: \u001b[1m255.00000\u001b[22m\n",
       "      - nodata: \u001b[1m0.00000\u001b[22m\n",
       "      - scale: \u001b[1m0.00010\u001b[22m\n",
       "      - center_wavelength: null\n",
       "      - full_width_half_max: null\n",
       "      - data_type: \u001b[1m\"uint8\"\u001b[22m\n",
       "- links:\n",
       "  - - href: \u001b[1m\"http://brazildatacube.dpi.inpe.br/dev/bdc-stac/collections/CB4_64_16D_STK-1\"\u001b[22m\n",
       "    - rel: \u001b[1m\"self\"\u001b[22m\n",
       "    - type: \u001b[1m\"application/json\"\u001b[22m\n",
       "    - title: \u001b[1m\"Link to this document\"\u001b[22m\n",
       "  - - href: \u001b[1m\"http://brazildatacube.dpi.inpe.br/dev/bdc-stac/collections/CB4_64_16D_STK-1/items\"\u001b[22m\n",
       "    - rel: \u001b[1m\"items\"\u001b[22m\n",
       "    - type: \u001b[1m\"application/json\"\u001b[22m\n",
       "    - title: \u001b[1m\"Items of the collection CB4_64_16D_STK-1\"\u001b[22m\n",
       "  - - href: \u001b[1m\"http://brazildatacube.dpi.inpe.br/dev/bdc-stac/collections\"\u001b[22m\n",
       "    - rel: \u001b[1m\"parent\"\u001b[22m\n",
       "    - type: \u001b[1m\"application/json\"\u001b[22m\n",
       "    - title: \u001b[1m\"Link to catalog collections\"\u001b[22m\n",
       "  - - href: \u001b[1m\"http://brazildatacube.dpi.inpe.br/dev/bdc-stac/\"\u001b[22m\n",
       "    - rel: \u001b[1m\"root\"\u001b[22m\n",
       "    - type: \u001b[1m\"application/json\"\u001b[22m\n",
       "    - title: \u001b[1m\"API landing page (root catalog)\"\u001b[22m"
      ]
     },
     "metadata": {},
     "output_type": "display_data"
    }
   ],
   "source": [
    "stac(\"http://brazildatacube.dpi.inpe.br/dev/bdc-stac/\") %>%\n",
    "    collections(\"CB4_64_16D_STK-1\") %>%\n",
    "    get_request() "
   ]
  },
  {
   "cell_type": "code",
   "execution_count": null,
   "metadata": {},
   "outputs": [],
   "source": []
  },
  {
   "cell_type": "code",
   "execution_count": null,
   "metadata": {},
   "outputs": [],
   "source": []
  },
  {
   "cell_type": "code",
   "execution_count": null,
   "metadata": {},
   "outputs": [],
   "source": []
  },
  {
   "cell_type": "markdown",
   "metadata": {},
   "source": [
    "<hr style=\"border: 1px solid #0984e3;\">\n",
    "\n",
    "### 3. STAC Items e Search"
   ]
  },
  {
   "cell_type": "markdown",
   "metadata": {},
   "source": [
    "<img src=\"img/rstac_uml_v01_02.png\" align=\"right\" width=\"700\" />\n",
    "\n",
    "TODO: Explicar o ...\n"
   ]
  },
  {
   "cell_type": "markdown",
   "metadata": {},
   "source": [
    "#### 3.1 Buscando por itens da collections `CB4_64_16D_STK-1`"
   ]
  },
  {
   "cell_type": "code",
   "execution_count": 35,
   "metadata": {},
   "outputs": [
    {
     "data": {
      "text/plain": [
       "\u001b[1m### STAC Item Collection\u001b[22m\n",
       "- type: \u001b[1m\"FeatureCollection\"\u001b[22m\n",
       "- numberMatched: \u001b[1m1680\u001b[22m\n",
       "- features:\n",
       "  - - collection: \u001b[1m\"CB4_64_16D_STK-1\"\u001b[22m\n",
       "    - bbox: xmin: \u001b[1m-60.69110\u001b[22m, ymin: \u001b[1m-15.05461\u001b[22m, xmax: \u001b[1m-54.34743\u001b[22m, ymax: \u001b[1m-11.06752\u001b[22m\n",
       "    - datetime: \u001b[1m\"2020-07-11T00:00:00\"\u001b[22m\n",
       "  - - collection: \u001b[1m\"CB4_64_16D_STK-1\"\u001b[22m\n",
       "    - bbox: xmin: \u001b[1m-60.79166\u001b[22m, ymin: \u001b[1m-18.97972\u001b[22m, xmax: \u001b[1m-54.35257\u001b[22m, ymax: \u001b[1m-14.97918\u001b[22m\n",
       "    - datetime: \u001b[1m\"2020-07-11T00:00:00\"\u001b[22m\n",
       "  - - collection: \u001b[1m\"CB4_64_16D_STK-1\"\u001b[22m\n",
       "    - bbox: xmin: \u001b[1m-60.89529\u001b[22m, ymin: \u001b[1m-22.93668\u001b[22m, xmax: \u001b[1m-54.35787\u001b[22m, ymax: \u001b[1m-18.90274\u001b[22m\n",
       "    - datetime: \u001b[1m\"2020-07-11T00:00:00\"\u001b[22m\n",
       "  - - collection: \u001b[1m\"CB4_64_16D_STK-1\"\u001b[22m\n",
       "    - bbox: xmin: \u001b[1m-61.00212\u001b[22m, ymin: \u001b[1m-26.94755\u001b[22m, xmax: \u001b[1m-54.36333\u001b[22m, ymax: \u001b[1m-22.85769\u001b[22m\n",
       "    - datetime: \u001b[1m\"2020-07-11T00:00:00\"\u001b[22m\n",
       "  - - collection: \u001b[1m\"CB4_64_16D_STK-1\"\u001b[22m\n",
       "    - bbox: xmin: \u001b[1m-54.34743\u001b[22m, ymin: \u001b[1m-11.14179\u001b[22m, xmax: \u001b[1m-48.10103\u001b[22m, ymax: \u001b[1m-7.16442\u001b[22m\n",
       "    - datetime: \u001b[1m\"2020-07-11T00:00:00\"\u001b[22m\n",
       "\u001b[90m> … with 5 more feature(s)\u001b[39m"
      ]
     },
     "metadata": {},
     "output_type": "display_data"
    }
   ],
   "source": [
    "stac(\"http://brazildatacube.dpi.inpe.br/dev/bdc-stac/\") %>%\n",
    "    collections(collection_id = \"CB4_64_16D_STK-1\") %>%\n",
    "    items() %>% \n",
    "    get_request()"
   ]
  },
  {
   "cell_type": "markdown",
   "metadata": {},
   "source": [
    "### 4. Download assets"
   ]
  },
  {
   "cell_type": "code",
   "execution_count": 18,
   "metadata": {},
   "outputs": [
    {
     "name": "stdout",
     "output_type": "stream",
     "text": [
      "  |==================================================| 100%\n"
     ]
    },
    {
     "data": {
      "text/plain": [
       "\u001b[1m### STAC Item Collection\u001b[22m\n",
       "- type: \u001b[1m\"FeatureCollection\"\u001b[22m\n",
       "- numberMatched: \u001b[1m1745\u001b[22m\n",
       "- features:\n",
       "  - - collection: \u001b[1m\"CB4_64_16D_STK-1\"\u001b[22m\n",
       "    - bbox: xmin: \u001b[1m-48.19039\u001b[22m, ymin: \u001b[1m-16.00871\u001b[22m, xmax: \u001b[1m-41.63417\u001b[22m, ymax: \u001b[1m-11.91345\u001b[22m\n",
       "    - datetime: \u001b[1m\"2019-12-19T00:00:00\"\u001b[22m\n",
       "  - - collection: \u001b[1m\"CB4_64_16D_STK-1\"\u001b[22m\n",
       "    - bbox: xmin: \u001b[1m-54.54010\u001b[22m, ymin: \u001b[1m-16.07807\u001b[22m, xmax: \u001b[1m-48.08240\u001b[22m, ymax: \u001b[1m-12.14540\u001b[22m\n",
       "    - datetime: \u001b[1m\"2019-12-19T00:00:00\"\u001b[22m"
      ]
     },
     "metadata": {},
     "output_type": "display_data"
    }
   ],
   "source": [
    "stac(\"http://brazildatacube.dpi.inpe.br/dev/bdc-stac/\") %>%\n",
    "    collections(collection_id = \"CB4_64_16D_STK-1\") %>%\n",
    "    items(limit = 2) %>%\n",
    "    get_request() %>%\n",
    "    assets_download(assets_name = c(\"thumbnail\"), output_dir = \".\")\n"
   ]
  },
  {
   "cell_type": "markdown",
   "metadata": {},
   "source": [
    "`load.image(CB4_64_16D_STK_022024_2019-12-19_2019-12-31_thumbnail.png)`\n",
    "<img src=\"CB4_64_16D_STK_022024_2019-12-19_2019-12-31_thumbnail.png\" width=\"400\" />"
   ]
  },
  {
   "cell_type": "code",
   "execution_count": null,
   "metadata": {},
   "outputs": [],
   "source": [
    "jpeg()"
   ]
  }
 ],
 "metadata": {
  "kernelspec": {
   "display_name": "R",
   "language": "R",
   "name": "ir"
  },
  "language_info": {
   "codemirror_mode": "r",
   "file_extension": ".r",
   "mimetype": "text/x-r-source",
   "name": "R",
   "pygments_lexer": "r",
   "version": "3.6.2"
  }
 },
 "nbformat": 4,
 "nbformat_minor": 4
}
